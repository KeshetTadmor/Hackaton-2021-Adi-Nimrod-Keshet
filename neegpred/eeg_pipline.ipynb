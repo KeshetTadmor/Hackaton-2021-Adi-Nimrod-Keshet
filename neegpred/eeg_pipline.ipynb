{
 "cells": [
  {
   "cell_type": "markdown",
   "id": "editorial-toronto",
   "metadata": {},
   "source": [
    "# EEG Analysis Pipeline\n",
    "This notebook should be used together with the README file in the github repository (link)\n",
    "Its aim is to recieve a .mat file from an EEG experiment (under specific conditions, in the README) and find a random forest model for one of two classification tasks:\n",
    "1. based on EEG alone, predict whether or not a subject liked a given commercial\n",
    "2. based on EEG and previous scoring for a given item - predict whether a commercial will increase or decrease the amount of money a subject is willing to bid on an item. "
   ]
  },
  {
   "cell_type": "code",
   "execution_count": null,
   "id": "tough-diameter",
   "metadata": {},
   "outputs": [],
   "source": [
    "# first, import necessary modules\n",
    "import pandas as pd\n",
    "import numpy as np\n",
    "import pathlib\n",
    "from classes_and_functions import *\n"
   ]
  },
  {
   "cell_type": "markdown",
   "id": "organized-summit",
   "metadata": {},
   "source": [
    "## To start, import the modules from the cell above and update the path to your data\n",
    "after the update, run the cell and follow the pipline to build your model"
   ]
  },
  {
   "cell_type": "code",
   "execution_count": null,
   "id": "every-handling",
   "metadata": {
    "scrolled": true
   },
   "outputs": [],
   "source": [
    "### Import Data into MatlabDataImporter class ###\n",
    "path = pathlib.Path(r'D:/MarkS3/Documents/Homework/python_hackathon/AllEEG.mat')\n",
    "data = MatlabDataImporter(path)"
   ]
  },
  {
   "cell_type": "code",
   "execution_count": null,
   "id": "operating-stake",
   "metadata": {},
   "outputs": [],
   "source": [
    "_ = data.read_data()"
   ]
  },
  {
   "cell_type": "code",
   "execution_count": null,
   "id": "binding-partition",
   "metadata": {
    "scrolled": true
   },
   "outputs": [],
   "source": [
    "data.parse_data()"
   ]
  },
  {
   "cell_type": "code",
   "execution_count": null,
   "id": "needed-manor",
   "metadata": {},
   "outputs": [],
   "source": [
    "data.clean_dfs()"
   ]
  },
  {
   "cell_type": "code",
   "execution_count": null,
   "id": "removable-slave",
   "metadata": {},
   "outputs": [],
   "source": [
    "data.test_dfs(2,4)"
   ]
  },
  {
   "cell_type": "code",
   "execution_count": null,
   "id": "acoustic-manner",
   "metadata": {},
   "outputs": [],
   "source": [
    "ad_data = enrich_eeg_data(data.ad_df)\n",
    "bdm_data = data.bdm_df.copy()"
   ]
  },
  {
   "cell_type": "code",
   "execution_count": null,
   "id": "revised-radius",
   "metadata": {},
   "outputs": [],
   "source": [
    "X_train, X_test, y_train, y_test, rf_searcher, best_rf, features = build_liking_based_model(ad_data.copy(),corr_plots=True)"
   ]
  },
  {
   "cell_type": "code",
   "execution_count": null,
   "id": "informed-undergraduate",
   "metadata": {},
   "outputs": [],
   "source": [
    "plot_ROC(best_rf,'Random Forest liking model',X_test,y_test)"
   ]
  },
  {
   "cell_type": "code",
   "execution_count": null,
   "id": "general-malta",
   "metadata": {},
   "outputs": [],
   "source": [
    "plot_confusion_matrix(best_rf, 'Random Forest liking model', X_test, y_test)"
   ]
  },
  {
   "cell_type": "code",
   "execution_count": null,
   "id": "incredible-values",
   "metadata": {},
   "outputs": [],
   "source": [
    "plot_feature_importance(best_rf, features,'Random Forest liking model', 25)"
   ]
  },
  {
   "cell_type": "code",
   "execution_count": null,
   "id": "atlantic-cedar",
   "metadata": {},
   "outputs": [],
   "source": []
  }
 ],
 "metadata": {
  "kernelspec": {
   "display_name": "Python 3",
   "language": "python",
   "name": "python3"
  },
  "language_info": {
   "codemirror_mode": {
    "name": "ipython",
    "version": 3
   },
   "file_extension": ".py",
   "mimetype": "text/x-python",
   "name": "python",
   "nbconvert_exporter": "python",
   "pygments_lexer": "ipython3",
   "version": "3.8.6"
  }
 },
 "nbformat": 4,
 "nbformat_minor": 5
}
